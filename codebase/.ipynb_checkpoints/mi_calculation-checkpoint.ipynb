{
 "cells": [
  {
   "cell_type": "code",
   "execution_count": 1,
   "id": "49fc262a",
   "metadata": {},
   "outputs": [],
   "source": [
    "# notebook import\n",
    "\n",
    "from ipynb.fs.full.data_processing import *"
   ]
  },
  {
   "cell_type": "code",
   "execution_count": 2,
   "id": "57ba5c04",
   "metadata": {},
   "outputs": [],
   "source": [
    "# user input parameters\n",
    "\n",
    "# boolean parameter to dictate whether code is run\n",
    "run = False\n",
    "\n",
    "# boolean parameter to dictate use of print statements\n",
    "debug = False\n",
    "\n",
    "# boolean parameter to dictate whether results are written to .csv files\n",
    "write = False"
   ]
  },
  {
   "cell_type": "code",
   "execution_count": 3,
   "id": "c0ac4437",
   "metadata": {},
   "outputs": [],
   "source": [
    "# input: timestep and reference feature name of interest (timestep, feature_ref)\n",
    "# output: dictionary mapping a well's id number to its list of values of a given feature at an individual timestep\n",
    "def get_timestep_population_dict(timestep, feature_ref):\n",
    "    population_dict = {key:[] for key in well_id_list}\n",
    "    for well in experiment_dict:\n",
    "        well_df = experiment_dict[well]\n",
    "        timestep_vals = list((well_df.loc[well_df[timestep_ref] == timestep])[feature_ref])\n",
    "        population_dict[well] = timestep_vals\n",
    "    return population_dict\n",
    "\n",
    "# input: list of measurements (population) and a bin configuration (bins)\n",
    "# output: shannon entropy for a given population and number of bins\n",
    "def shannon_entropy_fn(population, bins):\n",
    "    hist, _ = np.histogram(population, bins=bins, density=True)\n",
    "    hist = hist[hist > 0]\n",
    "    return entropy(hist)\n",
    "\n",
    "# input: dictionary of populations (population_dict), size of random joint sampling of the populations (subset_size), and bin configuration (bins)\n",
    "# output: mutual information at a timestep \n",
    "def calculate_mi(population_dict, subset_size, bins):\n",
    "    try:\n",
    "        joint_pop = np.concatenate([np.random.choice(population_dict[pop], subset_size) for pop in population_dict])\n",
    "        joint_shannon_entropy = shannon_entropy_fn(joint_pop, bins)\n",
    "\n",
    "        shannon_entropy_list = []\n",
    "        for _, pop in enumerate(population_dict):\n",
    "            shannon_entropy = shannon_entropy_fn(population_dict[pop], bins)\n",
    "            shannon_entropy_list.append(shannon_entropy)\n",
    "        mean_entropy = sum(shannon_entropy_list) / len(shannon_entropy_list)\n",
    "        \n",
    "        mi = joint_shannon_entropy - mean_entropy\n",
    "\n",
    "        return mi\n",
    "    except:\n",
    "        print(\"Error calculating MI.\")\n",
    "        \n",
    "        return None\n",
    "    \n",
    "# input: reference feature name of interst (feature_ref), bin configuration (bins), and an optional .csv output file path (csv_fpath)\n",
    "# output: list of mutual information measurements over time for given feature\n",
    "def get_mi_list(feature_ref, bins, csv_fpath=None):\n",
    "    mi_list = []\n",
    "    for timestep in timestep_list:\n",
    "        population_dict = get_timestep_population_dict(timestep, feature_ref)\n",
    "        subset_size = int(ncells_avg_dict[timestep]//len(well_id_list))\n",
    "        mi = calculate_mi(population_dict, subset_size, bins)\n",
    "        mi_list.append(mi)\n",
    "        if csv_fpath != None:\n",
    "            append_row_csv(csv_fpath, [mi])\n",
    "    return mi_list"
   ]
  },
  {
   "cell_type": "code",
   "execution_count": 4,
   "id": "3b80c258",
   "metadata": {},
   "outputs": [],
   "source": [
    "# `main()` function declaration\n",
    "\n",
    "# intended use in coordination with `mi_calculation_plot.ipynb`\n",
    "# requires: import of `data_processing.ipynb` and user input parameters specified above\n",
    "# output: None (assigns new global variables `bin_edges_dict`, `mi_list_dict` and writes to output .csv files)\n",
    "\n",
    "def main():\n",
    "    \n",
    "    # dictionary mapping each feature to its optimal bin edge configuration\n",
    "    global bin_edges_dict\n",
    "    bin_edges_dict = create_bin_edges_dict()\n",
    "    \n",
    "    # dictionary mapping each feature to a list of its mutual information over time\n",
    "    global mi_list_dict\n",
    "    mi_list_dict = {}\n",
    "    \n",
    "    for (name, ref) in zip(feature_name_list, feature_ref_list):\n",
    "        \n",
    "        # get list of mutual information values\n",
    "        if write:\n",
    "            csv_fpath = results_fpath + mi_calc_ext + f'{name}_mi_list.csv'\n",
    "            append_row_csv(csv_fpath, ['mi'])\n",
    "            mi_list = get_mi_list(ref, bin_edges_dict[name], csv_fpath)\n",
    "        \n",
    "        else:\n",
    "            mi_list = get_mi_list(ref, bin_edges_dict[name])\n",
    "            \n",
    "        mi_list_dict[name] = mi_list\n",
    "        \n",
    "    if debug:\n",
    "        print('mi_list_dict:', type(mi_list_dict), '\\n', mi_list_dict)\n",
    "        \n",
    "    return"
   ]
  },
  {
   "cell_type": "code",
   "execution_count": 5,
   "id": "f0bbff7d",
   "metadata": {},
   "outputs": [],
   "source": [
    "# call to `main()` function\n",
    "\n",
    "if run:\n",
    "    main()"
   ]
  },
  {
   "cell_type": "code",
   "execution_count": null,
   "id": "8f991957",
   "metadata": {},
   "outputs": [],
   "source": []
  }
 ],
 "metadata": {
  "kernelspec": {
   "display_name": "Python 3 (ipykernel)",
   "language": "python",
   "name": "python3"
  },
  "language_info": {
   "codemirror_mode": {
    "name": "ipython",
    "version": 3
   },
   "file_extension": ".py",
   "mimetype": "text/x-python",
   "name": "python",
   "nbconvert_exporter": "python",
   "pygments_lexer": "ipython3",
   "version": "3.9.13"
  }
 },
 "nbformat": 4,
 "nbformat_minor": 5
}
