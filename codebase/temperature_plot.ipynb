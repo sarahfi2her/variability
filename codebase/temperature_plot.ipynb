{
 "cells": [
  {
   "cell_type": "code",
   "execution_count": null,
   "id": "a5ee47f9",
   "metadata": {},
   "outputs": [],
   "source": [
    "# notebook import \n",
    "\n",
    "from ipynb.fs.full.data_processing import *"
   ]
  },
  {
   "cell_type": "code",
   "execution_count": null,
   "id": "234e0416",
   "metadata": {},
   "outputs": [],
   "source": [
    "# user input parameters\n",
    "\n",
    "# boolean parameter to dictate whether figures are saved\n",
    "save = False\n",
    "\n",
    "# list of numbers over which the plot will be averaged \n",
    "temp_avg_list = [0, 10, 100, 500, 750, 1000]\n",
    "\n",
    "# color used in figures \n",
    "color = 'gray'"
   ]
  },
  {
   "cell_type": "code",
   "execution_count": null,
   "id": "77842ff4",
   "metadata": {},
   "outputs": [],
   "source": [
    "# function declaration\n",
    "\n",
    "# input: a set of x-values (x), a set of y-values (y), and a number over which their plot will be averaged \n",
    "# output: None (plots temperature over time with specified average)\n",
    "def plot_temp(x, y, num):\n",
    "    x, y = avg_plot(x, y, num)\n",
    "    plt.plot(x, y, color=color)\n",
    "    \n",
    "    plt.title('Temperature as a function of time')\n",
    "    plt.xlabel('Time (s)')\n",
    "    plt.ylabel('Temperature')\n",
    "    \n",
    "    if save:\n",
    "        plt.savefig(results_fpath+temperature_ext_fpath+f'temp_{num}.png', dpi=300,  bbox_inches='tight')\n",
    "    \n",
    "    plt.show()\n",
    "    return"
   ]
  },
  {
   "cell_type": "code",
   "execution_count": null,
   "id": "4bbecc05",
   "metadata": {},
   "outputs": [],
   "source": [
    "# `main()` function declaration\n",
    "\n",
    "# intended use in coordination with ...\n",
    "# requires: import of `data_processing.ipynb` and user input parameters specified above\n",
    "# output: None (plots the temperature over time)\n",
    "\n",
    "def main():\n",
    "    # plot \n",
    "    for num in temp_avg_list: \n",
    "        plot_temp(temp_secs, temp_series, num)\n",
    "        \n",
    "    return"
   ]
  },
  {
   "cell_type": "code",
   "execution_count": null,
   "id": "bc06d8d2",
   "metadata": {},
   "outputs": [],
   "source": [
    "# call to `main()` function\n",
    "\n",
    "main()"
   ]
  }
 ],
 "metadata": {
  "kernelspec": {
   "display_name": "Python 3 (ipykernel)",
   "language": "python",
   "name": "python3"
  },
  "language_info": {
   "codemirror_mode": {
    "name": "ipython",
    "version": 3
   },
   "file_extension": ".py",
   "mimetype": "text/x-python",
   "name": "python",
   "nbconvert_exporter": "python",
   "pygments_lexer": "ipython3",
   "version": "3.9.13"
  }
 },
 "nbformat": 4,
 "nbformat_minor": 5
}
