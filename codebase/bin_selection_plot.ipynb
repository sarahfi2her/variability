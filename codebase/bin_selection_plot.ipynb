{
 "cells": [
  {
   "cell_type": "code",
   "execution_count": null,
   "id": "c0ad39cd",
   "metadata": {},
   "outputs": [],
   "source": [
    "# notebook import \n",
    "\n",
    "from ipynb.fs.full.data_processing import *"
   ]
  },
  {
   "cell_type": "code",
   "execution_count": null,
   "id": "740a4ead",
   "metadata": {},
   "outputs": [],
   "source": [
    "# user input parameters\n",
    "\n",
    "# boolean parameter to dictate whether figures are saved\n",
    "save = False\n",
    "\n",
    "# dictionary mapping each binning method name to its corresponding proper name used in figures\n",
    "proper_method = {'fd':'Fd', 'doane':'Doane', 'scott':'Scott', 'stone':'Stone', 'rice':'Rice', 'sturges':'Sturges', 'sqrt':'Sqrt'}\n",
    "\n",
    "# list of colors used in figures\n",
    "colors = ['lightcoral', 'lightsalmon', 'greenyellow', 'darkturquoise', 'lightskyblue', 'slateblue', 'orchid']"
   ]
  },
  {
   "cell_type": "code",
   "execution_count": null,
   "id": "28ee9ac2",
   "metadata": {},
   "outputs": [],
   "source": [
    "# function declaration\n",
    "\n",
    "# input: a number of bins (n_bins) and a series of measurements (series) corresponding to a feature of interest (feature)\n",
    "# output: None (plots the series of measurements as a distribution with the specified number of bins)\n",
    "def plot_distribution(n_bins, series, feature):\n",
    "    plt.hist(series, bins=n_bins, density=True)\n",
    "    \n",
    "    plt.title(f'{proper_feature[feature]} distribution with {n} bins')\n",
    "    plt.xlabel(f'{proper_feature[feature]}')\n",
    "    plt.ylabel('Density')\n",
    "    plt.legend(loc='center left', bbox_to_anchor=(1, 0.5))\n",
    "    \n",
    "    if save:\n",
    "        plt.savefig(results_fpath+bin_selection_ext+f'/distribution_plots/{feature}_distribution_{n}_bins.png', dpi=300,  bbox_inches='tight')\n",
    "    \n",
    "    plt.show()\n",
    "    return\n",
    "\n",
    "# input: list of binning methods (method_name_list) and the number of bins they suggest (method_bin_list), a set of number of bins (bin_range) and their corresponding entropies (entropies), and the optimal number of bins (optimal_n_bins) for a feature of interest (feature) \n",
    "# output: None (plots entropy as a function of bin size, specifying different numbers of bins of interest)\n",
    "def plot_bin_entropies(method_name_list, method_bin_list, bin_range, entropies, optimal_n_bins, feature):\n",
    "    method_name_sorted = [name for _, name in sorted(zip(method_bin_list, method_name_list))]\n",
    "    method_bin_list.sort()\n",
    "    \n",
    "    plt.plot(bin_range, entropies, color='black', label='Entropy')\n",
    "    \n",
    "    plt.axvline(optimal_n_bins, color='red', linestyle='--', label=f'Knee point ({optimal_bins})')\n",
    "    for (name, n_bins, c) in zip(method_name_sorted, method_bin_list, colors):\n",
    "        plt.axvline(n_bins, color=c, linestyle='--', label=f'{proper_method[name]} ({n_bins})')\n",
    "       \n",
    "    plt.title(f'{proper_feature[feature]} entropy as a function of number of bins')\n",
    "    plt.xlabel('Number of bins')\n",
    "    plt.ylabel('Entropy')\n",
    "    plt.legend(loc='center left', bbox_to_anchor=(1, 0.5))\n",
    "    \n",
    "    if save:\n",
    "        plt.savefig(results_fpath+bin_selection_ext+f'/bin_entropies_plots/{feature}_bin_entropies.png', dpi=300,  bbox_inches='tight')\n",
    "    \n",
    "    plt.show()\n",
    "    return"
   ]
  },
  {
   "cell_type": "code",
   "execution_count": null,
   "id": "3986bbb6",
   "metadata": {},
   "outputs": [],
   "source": [
    "# `main()` function declaration\n",
    "\n",
    "# intended use in coordination with `bin_selection.ipynb`\n",
    "# requires: import of `data_processing.ipynb` and user input parameters specified above\n",
    "# output: None (reads data files and produces plots of distribution and bin entropies)\n",
    "\n",
    "def main():\n",
    "    \n",
    "    # find data files\n",
    "    bin_entropies_files = find_data_files(results_fpath+bin_selection_ext, '*_bin_entropies.csv')\n",
    "    bin_entropies_methods_files = find_data_files(results_fpath+bin_selection_ext, '*_bin_entropies_methods.csv')\n",
    "    optimal_bins_files = find_data_files(results_fpath+bin_selection_ext, '*_optimal_bins.csv')\n",
    "    \n",
    "    # create dataframe dictionaries \n",
    "    bin_entropies_dict = create_dataframe_dict(bin_entropies_files, f'{results_fpath}{bin_selection_ext}(.+?)_bin_entropies.csv')\n",
    "    bin_entropies_methods_dict = create_dataframe_dict(bin_entropies_methods_files, f'{results_fpath}{bin_selection_ext}(.+?)_bin_entropies_methods.csv')\n",
    "    optimal_bins_dict = create_dataframe_dict(optimal_bins_files, f'{results_fpath}{bin_selection_ext}(.+?)_optimal_bins.csv')\n",
    "\n",
    "    for feature in bin_entropies_dict:\n",
    "        \n",
    "        # series of measurements for given feature\n",
    "        feature_series = feature_df[feature]\n",
    "\n",
    "        # read variables from .csv files\n",
    "        bin_range = list(pd.read_csv(bin_entropies_dict[feature])['n_bins'])\n",
    "        entropies = list(pd.read_csv(bin_entropies_dict[feature])['entropy'])\n",
    "        method_name_list = list(pd.read_csv(bin_entropies_methods_dict[feature])['method'])\n",
    "        method_bin_list = list(pd.read_csv(bin_entropies_methods_dict[feature])['n_bins'])\n",
    "        method_entropy_list = list(pd.read_csv(bin_entropies_methods_dict[feature])['entropy'])\n",
    "        optimal_n_bins = int(list(pd.read_csv(optimal_bins_dict[feature])['n_bins'])[0])\n",
    "        \n",
    "        # plot\n",
    "        for n_bins in bin_range:\n",
    "            plot_distribution(n_bins, feature_series, feature)\n",
    "        plot_bin_entropies(method_name_list, method_bin_list, bin_range, entropies, optimal_n_bins, feature)\n",
    "        \n",
    "    return"
   ]
  },
  {
   "cell_type": "code",
   "execution_count": null,
   "id": "3b2daac3",
   "metadata": {},
   "outputs": [],
   "source": [
    "# call to `main()` function\n",
    "\n",
    "main()"
   ]
  },
  {
   "cell_type": "code",
   "execution_count": null,
   "id": "433823c0",
   "metadata": {},
   "outputs": [],
   "source": []
  }
 ],
 "metadata": {
  "kernelspec": {
   "display_name": "Python 3 (ipykernel)",
   "language": "python",
   "name": "python3"
  },
  "language_info": {
   "codemirror_mode": {
    "name": "ipython",
    "version": 3
   },
   "file_extension": ".py",
   "mimetype": "text/x-python",
   "name": "python",
   "nbconvert_exporter": "python",
   "pygments_lexer": "ipython3",
   "version": "3.9.13"
  }
 },
 "nbformat": 4,
 "nbformat_minor": 5
}
